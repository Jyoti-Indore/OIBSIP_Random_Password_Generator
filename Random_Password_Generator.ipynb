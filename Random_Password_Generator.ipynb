{
  "nbformat": 4,
  "nbformat_minor": 0,
  "metadata": {
    "colab": {
      "provenance": []
    },
    "kernelspec": {
      "name": "python3",
      "display_name": "Python 3"
    },
    "language_info": {
      "name": "python"
    }
  },
  "cells": [
    {
      "cell_type": "code",
      "execution_count": 3,
      "metadata": {
        "colab": {
          "base_uri": "https://localhost:8080/"
        },
        "id": "x9ducd-m1U1K",
        "outputId": "eb3ab7a5-6331-44d5-9943-c5990ca5513d"
      },
      "outputs": [
        {
          "output_type": "stream",
          "name": "stdout",
          "text": [
            "🔐 Welcome to the Python Password Generator!\n",
            "Enter desired password length: 10\n",
            "Include the following in your password:\n",
            "Letters? (y/n): y\n",
            "Numbers? (y/n): n\n",
            "Symbols? (y/n): n\n",
            "\n",
            "Your generated password: IfbDCPNXMI\n"
          ]
        }
      ],
      "source": [
        "import random\n",
        "import string\n",
        "\n",
        "def generate_password(length, use_letters=True, use_numbers=True, use_symbols=True):\n",
        "    character_pool = ''\n",
        "\n",
        "    if use_letters:\n",
        "        character_pool += string.ascii_letters  # a-z + A-Z\n",
        "    if use_numbers:\n",
        "        character_pool += string.digits         # 0-9\n",
        "    if use_symbols:\n",
        "        character_pool += string.punctuation    # Special characters like !@#$%\n",
        "\n",
        "    if not character_pool:\n",
        "        raise ValueError(\"At least one character type must be selected.\")\n",
        "\n",
        "    return ''.join(random.choice(character_pool) for _ in range(length))\n",
        "\n",
        "def get_user_preferences():\n",
        "    try:\n",
        "        length = int(input(\"Enter desired password length: \"))\n",
        "        if length <= 0:\n",
        "            raise ValueError\n",
        "    except ValueError:\n",
        "        print(\"Please enter a valid positive integer for length.\")\n",
        "        return None\n",
        "\n",
        "    print(\"Include the following in your password:\")\n",
        "    use_letters = input(\"Letters? (y/n): \").strip().lower() == 'y'\n",
        "    use_numbers = input(\"Numbers? (y/n): \").strip().lower() == 'y'\n",
        "    use_symbols = input(\"Symbols? (y/n): \").strip().lower() == 'y'\n",
        "\n",
        "    if not any([use_letters, use_numbers, use_symbols]):\n",
        "        print(\"You must choose at least one character type.\")\n",
        "        return None\n",
        "\n",
        "    return length, use_letters, use_numbers, use_symbols\n",
        "\n",
        "def main():\n",
        "    print(\"🔐 Welcome to the Python Password Generator!\")\n",
        "    prefs = get_user_preferences()\n",
        "\n",
        "    if prefs:\n",
        "        length, use_letters, use_numbers, use_symbols = prefs\n",
        "        password = generate_password(length, use_letters, use_numbers, use_symbols)\n",
        "        print(f\"\\nYour generated password: {password}\")\n",
        "\n",
        "if __name__ == \"__main__\":\n",
        "    main()\n"
      ]
    }
  ]
}